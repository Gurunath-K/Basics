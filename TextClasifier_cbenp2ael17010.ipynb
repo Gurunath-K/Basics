{
 "cells": [
  {
   "cell_type": "code",
   "execution_count": 4,
   "metadata": {
    "collapsed": true
   },
   "outputs": [],
   "source": [
    "categories = ['alt.atheism', 'soc.religion.christian', 'comp.graphics', 'sci.med']\n"
   ]
  },
  {
   "cell_type": "code",
   "execution_count": 5,
   "metadata": {},
   "outputs": [
    {
     "name": "stderr",
     "output_type": "stream",
     "text": [
      "Downloading dataset from http://people.csail.mit.edu/jrennie/20Newsgroups/20news-bydate.tar.gz (14 MB)\n"
     ]
    }
   ],
   "source": [
    "from sklearn.datasets import fetch_20newsgroups\n",
    "\n",
    "twenty_train = fetch_20newsgroups(subset='train', categories=categories, shuffle=True, random_state=42)"
   ]
  },
  {
   "cell_type": "code",
   "execution_count": 8,
   "metadata": {},
   "outputs": [
    {
     "name": "stdout",
     "output_type": "stream",
     "text": [
      "['alt.atheism', 'comp.graphics', 'sci.med', 'soc.religion.christian']\n",
      "2257\n",
      "2257\n"
     ]
    }
   ],
   "source": [
    "print (twenty_train.target_names)\n",
    "print (len(twenty_train.data))\n",
    "print (len(twenty_train.filenames))"
   ]
  },
  {
   "cell_type": "code",
   "execution_count": 15,
   "metadata": {},
   "outputs": [
    {
     "name": "stdout",
     "output_type": "stream",
     "text": [
      "From: sd345@city.ac.uk (Michael Collier)\n",
      "Subject: Converting images to HP LaserJet III?\n",
      "Nntp-Posting-Host: hampton\n",
      "Organization: The City University\n",
      "Lines: 14\n",
      "\n",
      "Does anyone know of a good way (standard PC application/PD utility) to\n",
      "convert tif/img/tga files into LaserJet III format.  We would also like to\n",
      "do the same, converting to HPGL (HP plotter) files.\n",
      "\n",
      "Please email any response.\n",
      "\n",
      "Is this the correct group?\n",
      "\n",
      "Thanks in advance.  Michael.\n",
      "-- \n",
      "Michael Collier (Programmer)                 The Computer Unit,\n",
      "Email: M.P.Collier@uk.ac.city                The City University,\n",
      "Tel: 071 477-8000 x3769                      London,\n",
      "Fax: 071 477-8565                            EC1V 0HB.\n",
      "\n"
     ]
    }
   ],
   "source": [
    "print(\"\\n\".join((twenty_train.data[0].split(\"\\n\"))))"
   ]
  },
  {
   "cell_type": "code",
   "execution_count": 16,
   "metadata": {},
   "outputs": [
    {
     "name": "stdout",
     "output_type": "stream",
     "text": [
      "[1 3 3 3]\n",
      "['comp.graphics', 'sci.med', 'soc.religion.christian']\n"
     ]
    }
   ],
   "source": [
    "print(twenty_train.target[1:5])\n",
    "print(twenty_train.target_names[1:5])"
   ]
  },
  {
   "cell_type": "code",
   "execution_count": 19,
   "metadata": {},
   "outputs": [],
   "source": [
    "from sklearn.feature_extraction.text import CountVectorizer"
   ]
  },
  {
   "cell_type": "code",
   "execution_count": 20,
   "metadata": {
    "collapsed": true
   },
   "outputs": [],
   "source": [
    "count_vect = CountVectorizer()\n",
    "X_train_counts = count_vect.fit_transform(twenty_train.data)"
   ]
  },
  {
   "cell_type": "code",
   "execution_count": 22,
   "metadata": {},
   "outputs": [
    {
     "name": "stdout",
     "output_type": "stream",
     "text": [
      "From: sd345@city.ac.uk (Michael Collier)\n",
      "Subject: Converting images to HP LaserJet III?\n",
      "Nntp-Posting-Host: hampton\n",
      "Organization: The City University\n",
      "Lines: 14\n",
      "\n",
      "Does anyone know of a good way (standard PC application/PD utility) to\n",
      "convert tif/img/tga files into LaserJet III format.  We would also like to\n",
      "do the same, converting to HPGL (HP plotter) files.\n",
      "\n",
      "Please email any response.\n",
      "\n",
      "Is this the correct group?\n",
      "\n",
      "Thanks in advance.  Michael.\n",
      "-- \n",
      "Michael Collier (Programmer)                 The Computer Unit,\n",
      "Email: M.P.Collier@uk.ac.city                The City University,\n",
      "Tel: 071 477-8000 x3769                      London,\n",
      "Fax: 071 477-8565                            EC1V 0HB.\n",
      "\n",
      "  (0, 230)\t1\n",
      "  (0, 12541)\t1\n",
      "  (0, 3166)\t1\n",
      "  (0, 14085)\t1\n",
      "  (0, 20459)\t1\n",
      "  (0, 35416)\t1\n",
      "  (0, 3062)\t1\n",
      "  (0, 2326)\t2\n",
      "  (0, 177)\t2\n",
      "  (0, 31915)\t1\n",
      "  (0, 33572)\t1\n",
      "  (0, 9338)\t1\n",
      "  (0, 26175)\t1\n",
      "  (0, 4378)\t1\n",
      "  (0, 17556)\t1\n",
      "  (0, 32135)\t1\n",
      "  (0, 15837)\t1\n",
      "  (0, 9932)\t1\n",
      "  (0, 32270)\t1\n",
      "  (0, 18474)\t1\n",
      "  (0, 27836)\t1\n",
      "  (0, 5195)\t1\n",
      "  (0, 12833)\t2\n",
      "  (0, 25337)\t1\n",
      "  (0, 25361)\t1\n",
      "  :\t:\n",
      "  (0, 5201)\t1\n",
      "  (0, 12051)\t1\n",
      "  (0, 587)\t1\n",
      "  (0, 20253)\t1\n",
      "  (0, 33597)\t2\n",
      "  (0, 32142)\t5\n",
      "  (0, 23915)\t1\n",
      "  (0, 16082)\t1\n",
      "  (0, 16881)\t1\n",
      "  (0, 25663)\t1\n",
      "  (0, 23122)\t1\n",
      "  (0, 17302)\t2\n",
      "  (0, 19780)\t2\n",
      "  (0, 16916)\t2\n",
      "  (0, 32493)\t4\n",
      "  (0, 17366)\t1\n",
      "  (0, 9805)\t2\n",
      "  (0, 31077)\t1\n",
      "  (0, 9031)\t3\n",
      "  (0, 21661)\t3\n",
      "  (0, 33256)\t2\n",
      "  (0, 4017)\t2\n",
      "  (0, 8696)\t4\n",
      "  (0, 29022)\t1\n",
      "  (0, 14887)\t1\n"
     ]
    }
   ],
   "source": [
    "print(twenty_train.data[0])\n",
    "print(X_train_counts[0])"
   ]
  },
  {
   "cell_type": "code",
   "execution_count": 23,
   "metadata": {},
   "outputs": [
    {
     "data": {
      "text/plain": [
       "(2257, 35788)"
      ]
     },
     "execution_count": 23,
     "metadata": {},
     "output_type": "execute_result"
    }
   ],
   "source": [
    "X_train_counts.shape"
   ]
  },
  {
   "cell_type": "code",
   "execution_count": 25,
   "metadata": {},
   "outputs": [
    {
     "name": "stdout",
     "output_type": "stream",
     "text": [
      "  (0, 230)\t1\n",
      "  (0, 12541)\t1\n",
      "  (0, 3166)\t1\n",
      "  (0, 14085)\t1\n",
      "  (0, 20459)\t1\n",
      "  (0, 35416)\t1\n",
      "  (0, 3062)\t1\n",
      "  (0, 2326)\t2\n",
      "  (0, 177)\t2\n",
      "  (0, 31915)\t1\n",
      "  (0, 33572)\t1\n",
      "  (0, 9338)\t1\n",
      "  (0, 26175)\t1\n",
      "  (0, 4378)\t1\n",
      "  (0, 17556)\t1\n",
      "  (0, 32135)\t1\n",
      "  (0, 15837)\t1\n",
      "  (0, 9932)\t1\n",
      "  (0, 32270)\t1\n",
      "  (0, 18474)\t1\n",
      "  (0, 27836)\t1\n",
      "  (0, 5195)\t1\n",
      "  (0, 12833)\t2\n",
      "  (0, 25337)\t1\n",
      "  (0, 25361)\t1\n",
      "  :\t:\n",
      "  (2256, 6430)\t1\n",
      "  (2256, 24052)\t1\n",
      "  (2256, 22270)\t1\n",
      "  (2256, 35638)\t2\n",
      "  (2256, 32233)\t1\n",
      "  (2256, 35157)\t1\n",
      "  (2256, 4938)\t1\n",
      "  (2256, 34923)\t1\n",
      "  (2256, 5698)\t1\n",
      "  (2256, 27031)\t2\n",
      "  (2256, 14601)\t1\n",
      "  (2256, 21322)\t1\n",
      "  (2256, 7766)\t1\n",
      "  (2256, 12626)\t2\n",
      "  (2256, 9338)\t1\n",
      "  (2256, 17556)\t1\n",
      "  (2256, 32270)\t1\n",
      "  (2256, 18474)\t2\n",
      "  (2256, 23610)\t2\n",
      "  (2256, 587)\t1\n",
      "  (2256, 20253)\t1\n",
      "  (2256, 32142)\t6\n",
      "  (2256, 23915)\t1\n",
      "  (2256, 31077)\t1\n",
      "  (2256, 14887)\t1\n"
     ]
    }
   ],
   "source": [
    "print(X_train_counts)"
   ]
  },
  {
   "cell_type": "code",
   "execution_count": 30,
   "metadata": {},
   "outputs": [
    {
     "data": {
      "text/plain": [
       "16082"
      ]
     },
     "execution_count": 30,
     "metadata": {},
     "output_type": "execute_result"
    }
   ],
   "source": [
    "count_vect.vocabulary_.get(u'hampton')\n"
   ]
  },
  {
   "cell_type": "code",
   "execution_count": 34,
   "metadata": {},
   "outputs": [
    {
     "name": "stdout",
     "output_type": "stream",
     "text": [
      "[1 1 3 ..., 2 2 2]\n"
     ]
    }
   ],
   "source": [
    "print(twenty_train.target)"
   ]
  },
  {
   "cell_type": "code",
   "execution_count": 35,
   "metadata": {},
   "outputs": [
    {
     "name": "stdout",
     "output_type": "stream",
     "text": [
      "  (0, 230)\t1\n",
      "  (0, 12541)\t1\n",
      "  (0, 3166)\t1\n",
      "  (0, 14085)\t1\n",
      "  (0, 20459)\t1\n",
      "  (0, 35416)\t1\n",
      "  (0, 3062)\t1\n",
      "  (0, 2326)\t2\n",
      "  (0, 177)\t2\n",
      "  (0, 31915)\t1\n",
      "  (0, 33572)\t1\n",
      "  (0, 9338)\t1\n",
      "  (0, 26175)\t1\n",
      "  (0, 4378)\t1\n",
      "  (0, 17556)\t1\n",
      "  (0, 32135)\t1\n",
      "  (0, 15837)\t1\n",
      "  (0, 9932)\t1\n",
      "  (0, 32270)\t1\n",
      "  (0, 18474)\t1\n",
      "  (0, 27836)\t1\n",
      "  (0, 5195)\t1\n",
      "  (0, 12833)\t2\n",
      "  (0, 25337)\t1\n",
      "  (0, 25361)\t1\n",
      "  :\t:\n",
      "  (2256, 6430)\t1\n",
      "  (2256, 24052)\t1\n",
      "  (2256, 22270)\t1\n",
      "  (2256, 35638)\t2\n",
      "  (2256, 32233)\t1\n",
      "  (2256, 35157)\t1\n",
      "  (2256, 4938)\t1\n",
      "  (2256, 34923)\t1\n",
      "  (2256, 5698)\t1\n",
      "  (2256, 27031)\t2\n",
      "  (2256, 14601)\t1\n",
      "  (2256, 21322)\t1\n",
      "  (2256, 7766)\t1\n",
      "  (2256, 12626)\t2\n",
      "  (2256, 9338)\t1\n",
      "  (2256, 17556)\t1\n",
      "  (2256, 32270)\t1\n",
      "  (2256, 18474)\t2\n",
      "  (2256, 23610)\t2\n",
      "  (2256, 587)\t1\n",
      "  (2256, 20253)\t1\n",
      "  (2256, 32142)\t6\n",
      "  (2256, 23915)\t1\n",
      "  (2256, 31077)\t1\n",
      "  (2256, 14887)\t1\n"
     ]
    }
   ],
   "source": [
    "print(X_train_counts)"
   ]
  },
  {
   "cell_type": "markdown",
   "metadata": {},
   "source": [
    "## MultinomialNB"
   ]
  },
  {
   "cell_type": "code",
   "execution_count": 37,
   "metadata": {},
   "outputs": [
    {
     "name": "stdout",
     "output_type": "stream",
     "text": [
      "0.996455471865\n"
     ]
    }
   ],
   "source": [
    "from sklearn.naive_bayes import MultinomialNB\n",
    "clf = MulMultinomialNBtinomialNB().fit(X_train_counts, twenty_train.target)\n",
    "print (clf.score(X_train_counts, twenty_train.target))\n"
   ]
  },
  {
   "cell_type": "code",
   "execution_count": 38,
   "metadata": {
    "collapsed": true
   },
   "outputs": [],
   "source": [
    "twenty_test = fetch_20newsgroups(subset='test', categories=categories, shuffle=True, random_state=42)\n"
   ]
  },
  {
   "cell_type": "code",
   "execution_count": 40,
   "metadata": {},
   "outputs": [
    {
     "name": "stdout",
     "output_type": "stream",
     "text": [
      "0.934087882823\n"
     ]
    }
   ],
   "source": [
    "X_test_counts = count_vect.transform(twenty_test.data)\n",
    "print (clf.score(X_test_counts, twenty_test.target))"
   ]
  },
  {
   "cell_type": "code",
   "execution_count": 41,
   "metadata": {},
   "outputs": [
    {
     "name": "stdout",
     "output_type": "stream",
     "text": [
      "                        precision    recall  f1-score   support\n",
      "\n",
      "           alt.atheism       0.92      0.90      0.91       319\n",
      "         comp.graphics       0.95      0.95      0.95       389\n",
      "               sci.med       0.96      0.91      0.93       396\n",
      "soc.religion.christian       0.91      0.97      0.94       398\n",
      "\n",
      "           avg / total       0.93      0.93      0.93      1502\n",
      "\n"
     ]
    }
   ],
   "source": [
    "from sklearn import metrics\n",
    "predicted = clf.predict(X_test_counts)\n",
    "print(metrics.classification_report(twenty_test.target, predicted, target_names=twenty_test.target_names))"
   ]
  },
  {
   "cell_type": "code",
   "execution_count": 45,
   "metadata": {},
   "outputs": [
    {
     "name": "stdout",
     "output_type": "stream",
     "text": [
      "['alt.atheism', 'comp.graphics', 'sci.med', 'soc.religion.christian']\n"
     ]
    }
   ],
   "source": [
    "print(twenty_test.target_names)"
   ]
  },
  {
   "cell_type": "markdown",
   "metadata": {},
   "source": [
    "## Random Forest Tree"
   ]
  },
  {
   "cell_type": "code",
   "execution_count": 46,
   "metadata": {
    "collapsed": true
   },
   "outputs": [],
   "source": [
    "from sklearn import datasets, svm, metrics\n",
    "from sklearn.ensemble import RandomForestClassifier\n",
    "from sklearn.linear_model import LogisticRegression\n",
    "from sklearn.linear_model import SGDClassifier\n",
    "from sklearn.ensemble import GradientBoostingClassifier\n",
    "from sklearn.neighbors.nearest_centroid import NearestCentroid"
   ]
  },
  {
   "cell_type": "markdown",
   "metadata": {},
   "source": [
    "## SVM\n",
    "\n"
   ]
  },
  {
   "cell_type": "code",
   "execution_count": 53,
   "metadata": {},
   "outputs": [
    {
     "name": "stdout",
     "output_type": "stream",
     "text": [
      "0.750332889481\n",
      "                        precision    recall  f1-score   support\n",
      "\n",
      "           alt.atheism       0.91      0.64      0.75       319\n",
      "         comp.graphics       0.65      0.90      0.76       389\n",
      "               sci.med       0.85      0.60      0.70       396\n",
      "soc.religion.christian       0.73      0.84      0.78       398\n",
      "\n",
      "           avg / total       0.78      0.75      0.75      1502\n",
      "\n"
     ]
    }
   ],
   "source": [
    "classifier = svm.SVC(gamma=0.001)\n",
    "classifier.fit(X_train_counts, twenty_train.target)\n",
    "predicted = classifier.predict(X_test_counts)\n",
    "print (classifier.score(X_test_counts, twenty_test.target))\n",
    "print(metrics.classification_report(twenty_test.target, predicted, target_names=twenty_test.target_names))"
   ]
  },
  {
   "cell_type": "markdown",
   "metadata": {},
   "source": [
    "## Random Forest Tree"
   ]
  },
  {
   "cell_type": "code",
   "execution_count": 51,
   "metadata": {},
   "outputs": [
    {
     "name": "stdout",
     "output_type": "stream",
     "text": [
      "0.5\n",
      "                        precision    recall  f1-score   support\n",
      "\n",
      "           alt.atheism       0.70      0.13      0.21       319\n",
      "         comp.graphics       0.41      0.78      0.54       389\n",
      "               sci.med       0.41      0.25      0.31       396\n",
      "soc.religion.christian       0.66      0.77      0.71       398\n",
      "\n",
      "           avg / total       0.54      0.50      0.46      1502\n",
      "\n"
     ]
    }
   ],
   "source": [
    "classifier = RandomForestClassifier(max_depth=2, random_state=0)\n",
    "classifier.fit(X_train_counts, twenty_train.target)\n",
    "predicted = classifier.predict(X_test_counts)\n",
    "print (classifier.score(X_test_counts, twenty_test.target))\n",
    "print(metrics.classification_report(twenty_test.target, predicted, target_names=twenty_test.target_names))"
   ]
  },
  {
   "cell_type": "markdown",
   "metadata": {},
   "source": [
    "## Logistic Regression"
   ]
  },
  {
   "cell_type": "code",
   "execution_count": 49,
   "metadata": {},
   "outputs": [
    {
     "data": {
      "text/plain": [
       "LogisticRegression(C=1.0, class_weight=None, dual=False, fit_intercept=True,\n",
       "          intercept_scaling=1, max_iter=100, multi_class='ovr', n_jobs=1,\n",
       "          penalty='l2', random_state=None, solver='liblinear', tol=0.0001,\n",
       "          verbose=0, warm_start=False)"
      ]
     },
     "execution_count": 49,
     "metadata": {},
     "output_type": "execute_result"
    }
   ],
   "source": [
    "clf = LogisticRegression()\n",
    "clf.fit(X_train_counts, twenty_train.target)"
   ]
  },
  {
   "cell_type": "code",
   "execution_count": 50,
   "metadata": {},
   "outputs": [
    {
     "name": "stdout",
     "output_type": "stream",
     "text": [
      "0.901464713715\n",
      "                        precision    recall  f1-score   support\n",
      "\n",
      "           alt.atheism       0.93      0.81      0.86       319\n",
      "         comp.graphics       0.88      0.96      0.92       389\n",
      "               sci.med       0.93      0.84      0.88       396\n",
      "soc.religion.christian       0.88      0.98      0.93       398\n",
      "\n",
      "           avg / total       0.90      0.90      0.90      1502\n",
      "\n"
     ]
    }
   ],
   "source": [
    "predicted = clf.predict(X_test_counts)\n",
    "print (clf.score(X_test_counts, twenty_test.target))\n",
    "print(metrics.classification_report(twenty_test.target, predicted, target_names=twenty_test.target_names))"
   ]
  },
  {
   "cell_type": "code",
   "execution_count": null,
   "metadata": {
    "collapsed": true
   },
   "outputs": [],
   "source": []
  }
 ],
 "metadata": {
  "kernelspec": {
   "display_name": "Python 3",
   "language": "python",
   "name": "python3"
  },
  "language_info": {
   "codemirror_mode": {
    "name": "ipython",
    "version": 3
   },
   "file_extension": ".py",
   "mimetype": "text/x-python",
   "name": "python",
   "nbconvert_exporter": "python",
   "pygments_lexer": "ipython3",
   "version": "3.6.1"
  }
 },
 "nbformat": 4,
 "nbformat_minor": 2
}
